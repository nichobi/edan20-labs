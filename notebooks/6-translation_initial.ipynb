{
 "cells": [
  {
   "cell_type": "markdown",
   "metadata": {
    "id": "qXsgvpLzJ5OE"
   },
   "source": [
    "# Character-level recurrent sequence-to-sequence model\n",
    "Author: [fchollet](https://twitter.com/fchollet)\n",
    "\n",
    "Date created: 2017/09/29\n",
    "\n",
    "Last modified: 2020/04/26\n",
    "\n",
    "Description: Character-level recurrent sequence-to-sequence model.\n",
    "\n",
    "Small additions by Pierre Nugues.\n",
    "\n",
    "You will have to run and complete two notebooks. This is the first one."
   ]
  },
  {
   "cell_type": "markdown",
   "metadata": {
    "id": "wyy3fSD7J5OM"
   },
   "source": [
    "## Introduction\n",
    "This example demonstrates how to implement a basic character-level\n",
    "recurrent sequence-to-sequence model. We apply it to translating\n",
    "short English sentences into short French sentences,\n",
    "character-by-character. Note that it is fairly unusual to\n",
    "do character-level machine translation, as word-level\n",
    "models are more common in this domain.\n",
    "**Summary of the algorithm**\n",
    "- We start with input sequences from a domain (e.g. English sentences)\n",
    "    and corresponding target sequences from another domain\n",
    "    (e.g. French sentences).\n",
    "- An encoder LSTM turns input sequences to 2 state vectors\n",
    "    (we keep the last LSTM state and discard the outputs).\n",
    "- A decoder LSTM is trained to turn the target sequences into\n",
    "    the same sequence but offset by one timestep in the future,\n",
    "    a training process called \"teacher forcing\" in this context.\n",
    "    It uses as initial state the state vectors from the encoder.\n",
    "    Effectively, the decoder learns to generate `targets[t+1...]`\n",
    "    given `targets[...t]`, conditioned on the input sequence.\n",
    "- In inference mode, when we want to decode unknown input sequences, we:\n",
    "    - Encode the input sequence into state vectors\n",
    "    - Start with a target sequence of size 1\n",
    "        (just the start-of-sequence character)\n",
    "    - Feed the state vectors and 1-char target sequence\n",
    "        to the decoder to produce predictions for the next character\n",
    "    - Sample the next character using these predictions\n",
    "        (we simply use argmax).\n",
    "    - Append the sampled character to the target sequence\n",
    "    - Repeat until we generate the end-of-sequence character or we\n",
    "        hit the character limit."
   ]
  },
  {
   "cell_type": "markdown",
   "metadata": {
    "id": "Uq8w3W8JJ5OP"
   },
   "source": [
    "## Setup"
   ]
  },
  {
   "cell_type": "code",
   "execution_count": 1,
   "metadata": {
    "id": "_jC-iaBmJ5OS"
   },
   "outputs": [],
   "source": [
    "import random\n",
    "import numpy as np\n",
    "import tensorflow as tf\n",
    "from tensorflow import keras\n",
    "import matplotlib.pyplot as plt"
   ]
  },
  {
   "cell_type": "code",
   "execution_count": 2,
   "metadata": {
    "id": "hRzRwRvFJ5P1"
   },
   "outputs": [],
   "source": [
    "random.seed(1234)\n",
    "np.random.seed(1234)\n",
    "#tf.keras.utils.set_random_seed(1234)\n",
    "tf.random.set_seed(1234)"
   ]
  },
  {
   "cell_type": "markdown",
   "metadata": {
    "id": "OvzURIUXJ5P2"
   },
   "source": [
    "## Download the data"
   ]
  },
  {
   "cell_type": "markdown",
   "metadata": {
    "id": "PSkl6hT_J5P3"
   },
   "source": [
    "Have a look at the http://www.manythings.org/anki/ site and select a corpus with at least 10,000 pairs. You should understand the target language well. Ideally, it should be your mother tongue.\n",
    "Then uncomment and run the lines below to download the dataset."
   ]
  },
  {
   "cell_type": "code",
   "execution_count": 3,
   "metadata": {
    "id": "jz8cS09vJ5P3"
   },
   "outputs": [],
   "source": [
    "#!curl -O http://www.manythings.org/anki/swe-eng.zip\n",
    "#!unzip swe-eng.zip"
   ]
  },
  {
   "cell_type": "markdown",
   "metadata": {
    "id": "rKGA0JVxJ5P7"
   },
   "source": [
    "## Configuration"
   ]
  },
  {
   "cell_type": "markdown",
   "metadata": {
    "id": "a2OBu1gnJ5P9"
   },
   "source": [
    "Run this notebook on Google Colab if you do not have a GPU. You will need then to mount the Google drive and configure the path. The cells below will help you."
   ]
  },
  {
   "cell_type": "markdown",
   "metadata": {
    "id": "M8s368w5J5QA"
   },
   "source": [
    "You have to choose between a local execution on `my_machine` and `colab`"
   ]
  },
  {
   "cell_type": "code",
   "execution_count": 4,
   "metadata": {
    "id": "0p7Cx6KzJ5QA"
   },
   "outputs": [],
   "source": [
    "# The machine name\n",
    "machine_name = 'my_machine' # or 'my_machine'"
   ]
  },
  {
   "cell_type": "code",
   "execution_count": 5,
   "metadata": {
    "colab": {
     "base_uri": "https://localhost:8080/"
    },
    "id": "x9Ut-PX1J5QB",
    "outputId": "f3cb325c-8a77-411a-c326-8bf1173588af"
   },
   "outputs": [],
   "source": [
    "if machine_name == 'colab':\n",
    "    from google.colab import drive\n",
    "    drive.mount(\"/content/drive\")"
   ]
  },
  {
   "cell_type": "markdown",
   "metadata": {
    "id": "pfvX202GJ5QC"
   },
   "source": [
    "Adapt the path to your configuration"
   ]
  },
  {
   "cell_type": "code",
   "execution_count": 6,
   "metadata": {
    "id": "2qw1TbhEJ5QC"
   },
   "outputs": [],
   "source": [
    "# Path to the data txt file on disk.\n",
    "if machine_name == 'colab':\n",
    "    data_path = '/content/drive/My Drive/Colab Notebooks/traduction LSTM/fra.txt'\n",
    "else:\n",
    "    data_path = 'swe.txt'"
   ]
  },
  {
   "cell_type": "code",
   "execution_count": 7,
   "metadata": {
    "id": "G1UjoIQ3J5QD"
   },
   "outputs": [],
   "source": [
    "batch_size = 64  # Batch size for training.\n",
    "epochs = 40  # Number of epochs to train for.\n",
    "latent_dim = 256  # Latent dimensionality of the encoding space.\n",
    "num_samples = 10000  # Number of samples to train on."
   ]
  },
  {
   "cell_type": "markdown",
   "metadata": {
    "id": "ojCFVx2IJ5QE"
   },
   "source": [
    "## Prepare the data"
   ]
  },
  {
   "cell_type": "markdown",
   "metadata": {
    "id": "eA4zE0boJ5QE"
   },
   "source": [
    "Run the next cells to prepare the dataset. Be sure you understand all the code. I printed intermediate outputs to help you."
   ]
  },
  {
   "cell_type": "markdown",
   "metadata": {
    "id": "FLsiAvKnJ5QE"
   },
   "source": [
    "### Creating the pairs"
   ]
  },
  {
   "cell_type": "code",
   "execution_count": 8,
   "metadata": {
    "id": "oKVN2NCmJ5QF"
   },
   "outputs": [],
   "source": [
    "# Vectorize the data.\n",
    "input_texts = []\n",
    "target_texts = []\n",
    "input_characters = set()\n",
    "target_characters = set()\n",
    "with open(data_path, \"r\", encoding=\"utf-8\") as f:\n",
    "    lines = f.read().split(\"\\n\")"
   ]
  },
  {
   "cell_type": "code",
   "execution_count": 9,
   "metadata": {
    "id": "-ahNdKLXJ5QG"
   },
   "outputs": [],
   "source": [
    "for line in lines[: min(num_samples, len(lines) - 1)]:\n",
    "    input_text, target_text, _ = line.split(\"\\t\")\n",
    "    # We use \"tab\" as the \"start sequence\" character\n",
    "    # for the targets, and \"\\n\" as \"end sequence\" character.\n",
    "    target_text = \"\\t\" + target_text + \"\\n\"\n",
    "    input_texts.append(input_text)\n",
    "    target_texts.append(target_text)\n",
    "    for char in input_text:\n",
    "        if char not in input_characters:\n",
    "            input_characters.add(char)\n",
    "    for char in target_text:\n",
    "        if char not in target_characters:\n",
    "            target_characters.add(char)"
   ]
  },
  {
   "cell_type": "code",
   "execution_count": 10,
   "metadata": {
    "colab": {
     "base_uri": "https://localhost:8080/",
     "height": 37
    },
    "id": "F4WTTJ_bJ5QG",
    "outputId": "4daf40e3-0c39-4fa4-b365-2f1439c889f9"
   },
   "outputs": [
    {
     "data": {
      "text/plain": [
       "'I have a kid.'"
      ]
     },
     "execution_count": 10,
     "metadata": {},
     "output_type": "execute_result"
    }
   ],
   "source": [
    "input_texts[1000]"
   ]
  },
  {
   "cell_type": "code",
   "execution_count": 11,
   "metadata": {
    "colab": {
     "base_uri": "https://localhost:8080/",
     "height": 37
    },
    "id": "rmd2S4zUJ5QI",
    "outputId": "57696c05-0d9a-4b66-c4e9-baf8eb4679b8"
   },
   "outputs": [
    {
     "data": {
      "text/plain": [
       "'\\tJag har ett barn.\\n'"
      ]
     },
     "execution_count": 11,
     "metadata": {},
     "output_type": "execute_result"
    }
   ],
   "source": [
    "target_texts[1000]"
   ]
  },
  {
   "cell_type": "markdown",
   "metadata": {
    "id": "4x5X_CbFJ5QK"
   },
   "source": [
    "### The input and output symbols"
   ]
  },
  {
   "cell_type": "code",
   "execution_count": 12,
   "metadata": {
    "colab": {
     "base_uri": "https://localhost:8080/"
    },
    "id": "5NwRkl8PJ5QK",
    "outputId": "bebde1a7-5641-4f31-f61a-b6e6da764846"
   },
   "outputs": [
    {
     "name": "stdout",
     "output_type": "stream",
     "text": [
      "[' ', '!', '\"', \"'\", ',', '-', '.', '0', '1', '2', '5', '6', '7', '9', ':', '?', 'A', 'B', 'C', 'D', 'E', 'F', 'G', 'H', 'I', 'J', 'K', 'L', 'M', 'N', 'O', 'P', 'R', 'S', 'T', 'U', 'V', 'W', 'Y', 'a', 'b', 'c', 'd', 'e', 'f', 'g', 'h', 'i', 'j', 'k', 'l', 'm', 'n', 'o', 'p', 'q', 'r', 's', 't', 'u', 'v', 'w', 'x', 'y', 'z', '€']\n"
     ]
    }
   ],
   "source": [
    "input_characters = sorted(list(input_characters))\n",
    "print(input_characters)"
   ]
  },
  {
   "cell_type": "code",
   "execution_count": 13,
   "metadata": {
    "colab": {
     "base_uri": "https://localhost:8080/"
    },
    "id": "OwghANP3J5QL",
    "outputId": "a0c7871e-6015-42f6-a691-980471aceea9"
   },
   "outputs": [
    {
     "name": "stdout",
     "output_type": "stream",
     "text": [
      "['\\t', '\\n', ' ', '!', ',', '-', '.', '0', '1', '2', '5', '6', '7', '9', ':', '?', 'A', 'B', 'C', 'D', 'E', 'F', 'G', 'H', 'I', 'J', 'K', 'L', 'M', 'N', 'O', 'P', 'R', 'S', 'T', 'U', 'V', 'W', 'a', 'b', 'c', 'd', 'e', 'f', 'g', 'h', 'i', 'j', 'k', 'l', 'm', 'n', 'o', 'p', 'q', 'r', 's', 't', 'u', 'v', 'w', 'x', 'y', 'z', 'Ä', 'Å', 'Ö', 'à', 'ä', 'å', 'é', 'ö', '”']\n"
     ]
    }
   ],
   "source": [
    "target_characters = sorted(list(target_characters))\n",
    "print(target_characters)"
   ]
  },
  {
   "cell_type": "code",
   "execution_count": 14,
   "metadata": {
    "id": "yG-Q0UDQJ5QM"
   },
   "outputs": [],
   "source": [
    "num_encoder_tokens = len(input_characters)\n",
    "num_decoder_tokens = len(target_characters)\n",
    "max_encoder_seq_length = max([len(txt) for txt in input_texts])\n",
    "max_decoder_seq_length = max([len(txt) for txt in target_texts])"
   ]
  },
  {
   "cell_type": "code",
   "execution_count": 15,
   "metadata": {
    "colab": {
     "base_uri": "https://localhost:8080/"
    },
    "id": "_ijnaaZBJ5QP",
    "outputId": "4a1a4095-65ce-411c-ae5e-5c98ba835e5c"
   },
   "outputs": [
    {
     "name": "stdout",
     "output_type": "stream",
     "text": [
      "Number of samples: 10000\n",
      "Number of unique input tokens: 66\n",
      "Number of unique output tokens: 73\n",
      "Max sequence length for inputs: 21\n",
      "Max sequence length for outputs: 46\n"
     ]
    }
   ],
   "source": [
    "print(\"Number of samples:\", len(input_texts))\n",
    "print(\"Number of unique input tokens:\", num_encoder_tokens)\n",
    "print(\"Number of unique output tokens:\", num_decoder_tokens)\n",
    "print(\"Max sequence length for inputs:\", max_encoder_seq_length)\n",
    "print(\"Max sequence length for outputs:\", max_decoder_seq_length)"
   ]
  },
  {
   "cell_type": "markdown",
   "metadata": {
    "id": "Ue4IkfgaJ5QQ"
   },
   "source": [
    "### Creating the indices"
   ]
  },
  {
   "cell_type": "code",
   "execution_count": 16,
   "metadata": {
    "id": "3SsuVoZeJ5QR"
   },
   "outputs": [],
   "source": [
    "input_token_index = dict([(char, i) for i, char in enumerate(input_characters)])\n",
    "target_token_index = dict([(char, i) for i, char in enumerate(target_characters)])"
   ]
  },
  {
   "cell_type": "code",
   "execution_count": 17,
   "metadata": {
    "colab": {
     "base_uri": "https://localhost:8080/"
    },
    "id": "jkidEEDpJ5QS",
    "outputId": "b2eb38aa-2f8e-4b02-bf67-c2b63d1d0df3"
   },
   "outputs": [
    {
     "data": {
      "text/plain": [
       "{' ': 0,\n",
       " '!': 1,\n",
       " '\"': 2,\n",
       " \"'\": 3,\n",
       " ',': 4,\n",
       " '-': 5,\n",
       " '.': 6,\n",
       " '0': 7,\n",
       " '1': 8,\n",
       " '2': 9,\n",
       " '5': 10,\n",
       " '6': 11,\n",
       " '7': 12,\n",
       " '9': 13,\n",
       " ':': 14,\n",
       " '?': 15,\n",
       " 'A': 16,\n",
       " 'B': 17,\n",
       " 'C': 18,\n",
       " 'D': 19,\n",
       " 'E': 20,\n",
       " 'F': 21,\n",
       " 'G': 22,\n",
       " 'H': 23,\n",
       " 'I': 24,\n",
       " 'J': 25,\n",
       " 'K': 26,\n",
       " 'L': 27,\n",
       " 'M': 28,\n",
       " 'N': 29,\n",
       " 'O': 30,\n",
       " 'P': 31,\n",
       " 'R': 32,\n",
       " 'S': 33,\n",
       " 'T': 34,\n",
       " 'U': 35,\n",
       " 'V': 36,\n",
       " 'W': 37,\n",
       " 'Y': 38,\n",
       " 'a': 39,\n",
       " 'b': 40,\n",
       " 'c': 41,\n",
       " 'd': 42,\n",
       " 'e': 43,\n",
       " 'f': 44,\n",
       " 'g': 45,\n",
       " 'h': 46,\n",
       " 'i': 47,\n",
       " 'j': 48,\n",
       " 'k': 49,\n",
       " 'l': 50,\n",
       " 'm': 51,\n",
       " 'n': 52,\n",
       " 'o': 53,\n",
       " 'p': 54,\n",
       " 'q': 55,\n",
       " 'r': 56,\n",
       " 's': 57,\n",
       " 't': 58,\n",
       " 'u': 59,\n",
       " 'v': 60,\n",
       " 'w': 61,\n",
       " 'x': 62,\n",
       " 'y': 63,\n",
       " 'z': 64,\n",
       " '€': 65}"
      ]
     },
     "execution_count": 17,
     "metadata": {},
     "output_type": "execute_result"
    }
   ],
   "source": [
    "input_token_index"
   ]
  },
  {
   "cell_type": "code",
   "execution_count": 18,
   "metadata": {
    "colab": {
     "base_uri": "https://localhost:8080/"
    },
    "id": "OCV6YO-kJ5QW",
    "outputId": "eac8e3f4-8095-4192-de4a-c7dd90fec109"
   },
   "outputs": [
    {
     "data": {
      "text/plain": [
       "{'\\t': 0,\n",
       " '\\n': 1,\n",
       " ' ': 2,\n",
       " '!': 3,\n",
       " ',': 4,\n",
       " '-': 5,\n",
       " '.': 6,\n",
       " '0': 7,\n",
       " '1': 8,\n",
       " '2': 9,\n",
       " '5': 10,\n",
       " '6': 11,\n",
       " '7': 12,\n",
       " '9': 13,\n",
       " ':': 14,\n",
       " '?': 15,\n",
       " 'A': 16,\n",
       " 'B': 17,\n",
       " 'C': 18,\n",
       " 'D': 19,\n",
       " 'E': 20,\n",
       " 'F': 21,\n",
       " 'G': 22,\n",
       " 'H': 23,\n",
       " 'I': 24,\n",
       " 'J': 25,\n",
       " 'K': 26,\n",
       " 'L': 27,\n",
       " 'M': 28,\n",
       " 'N': 29,\n",
       " 'O': 30,\n",
       " 'P': 31,\n",
       " 'R': 32,\n",
       " 'S': 33,\n",
       " 'T': 34,\n",
       " 'U': 35,\n",
       " 'V': 36,\n",
       " 'W': 37,\n",
       " 'a': 38,\n",
       " 'b': 39,\n",
       " 'c': 40,\n",
       " 'd': 41,\n",
       " 'e': 42,\n",
       " 'f': 43,\n",
       " 'g': 44,\n",
       " 'h': 45,\n",
       " 'i': 46,\n",
       " 'j': 47,\n",
       " 'k': 48,\n",
       " 'l': 49,\n",
       " 'm': 50,\n",
       " 'n': 51,\n",
       " 'o': 52,\n",
       " 'p': 53,\n",
       " 'q': 54,\n",
       " 'r': 55,\n",
       " 's': 56,\n",
       " 't': 57,\n",
       " 'u': 58,\n",
       " 'v': 59,\n",
       " 'w': 60,\n",
       " 'x': 61,\n",
       " 'y': 62,\n",
       " 'z': 63,\n",
       " 'Ä': 64,\n",
       " 'Å': 65,\n",
       " 'Ö': 66,\n",
       " 'à': 67,\n",
       " 'ä': 68,\n",
       " 'å': 69,\n",
       " 'é': 70,\n",
       " 'ö': 71,\n",
       " '”': 72}"
      ]
     },
     "execution_count": 18,
     "metadata": {},
     "output_type": "execute_result"
    }
   ],
   "source": [
    "target_token_index"
   ]
  },
  {
   "cell_type": "markdown",
   "metadata": {
    "id": "5asFBdxMJ5QX"
   },
   "source": [
    "### Vectorizing\n",
    "We use one-hot encoding"
   ]
  },
  {
   "cell_type": "code",
   "execution_count": 19,
   "metadata": {
    "colab": {
     "base_uri": "https://localhost:8080/"
    },
    "id": "dhz4ncT4J5QZ",
    "outputId": "0a992b55-f2ea-47b6-b1c8-bf45d5bd3757"
   },
   "outputs": [
    {
     "data": {
      "text/plain": [
       "array([[[0., 0., 0., ..., 0., 0., 0.],\n",
       "        [0., 0., 0., ..., 0., 0., 0.],\n",
       "        [0., 0., 0., ..., 0., 0., 0.],\n",
       "        ...,\n",
       "        [0., 0., 0., ..., 0., 0., 0.],\n",
       "        [0., 0., 0., ..., 0., 0., 0.],\n",
       "        [0., 0., 0., ..., 0., 0., 0.]],\n",
       "\n",
       "       [[0., 0., 0., ..., 0., 0., 0.],\n",
       "        [0., 0., 0., ..., 0., 0., 0.],\n",
       "        [0., 0., 0., ..., 0., 0., 0.],\n",
       "        ...,\n",
       "        [0., 0., 0., ..., 0., 0., 0.],\n",
       "        [0., 0., 0., ..., 0., 0., 0.],\n",
       "        [0., 0., 0., ..., 0., 0., 0.]],\n",
       "\n",
       "       [[0., 0., 0., ..., 0., 0., 0.],\n",
       "        [0., 0., 0., ..., 0., 0., 0.],\n",
       "        [0., 0., 0., ..., 0., 0., 0.],\n",
       "        ...,\n",
       "        [0., 0., 0., ..., 0., 0., 0.],\n",
       "        [0., 0., 0., ..., 0., 0., 0.],\n",
       "        [0., 0., 0., ..., 0., 0., 0.]],\n",
       "\n",
       "       ...,\n",
       "\n",
       "       [[0., 0., 0., ..., 0., 0., 0.],\n",
       "        [0., 0., 0., ..., 0., 0., 0.],\n",
       "        [0., 0., 0., ..., 0., 0., 0.],\n",
       "        ...,\n",
       "        [0., 0., 0., ..., 0., 0., 0.],\n",
       "        [0., 0., 0., ..., 0., 0., 0.],\n",
       "        [0., 0., 0., ..., 0., 0., 0.]],\n",
       "\n",
       "       [[0., 0., 0., ..., 0., 0., 0.],\n",
       "        [0., 0., 0., ..., 0., 0., 0.],\n",
       "        [0., 0., 0., ..., 0., 0., 0.],\n",
       "        ...,\n",
       "        [0., 0., 0., ..., 0., 0., 0.],\n",
       "        [0., 0., 0., ..., 0., 0., 0.],\n",
       "        [0., 0., 0., ..., 0., 0., 0.]],\n",
       "\n",
       "       [[0., 0., 0., ..., 0., 0., 0.],\n",
       "        [0., 0., 0., ..., 0., 0., 0.],\n",
       "        [0., 0., 0., ..., 0., 0., 0.],\n",
       "        ...,\n",
       "        [0., 0., 0., ..., 0., 0., 0.],\n",
       "        [0., 0., 0., ..., 0., 0., 0.],\n",
       "        [0., 0., 0., ..., 0., 0., 0.]]], dtype=float32)"
      ]
     },
     "execution_count": 19,
     "metadata": {},
     "output_type": "execute_result"
    }
   ],
   "source": [
    "encoder_input_data = np.zeros(\n",
    "    (len(input_texts), max_encoder_seq_length, num_encoder_tokens), dtype=\"float32\"\n",
    ")\n",
    "decoder_input_data = np.zeros(\n",
    "    (len(input_texts), max_decoder_seq_length, num_decoder_tokens), dtype=\"float32\"\n",
    ")\n",
    "decoder_target_data = np.zeros(\n",
    "    (len(input_texts), max_decoder_seq_length, num_decoder_tokens), dtype=\"float32\"\n",
    ")\n",
    "decoder_target_data"
   ]
  },
  {
   "cell_type": "code",
   "execution_count": 20,
   "metadata": {
    "colab": {
     "base_uri": "https://localhost:8080/",
     "height": 142
    },
    "id": "THYbem8iJ5Qc",
    "outputId": "eb41cf72-9328-4e67-ddde-71c3c2b0480e"
   },
   "outputs": [
    {
     "data": {
      "text/plain": [
       "'Go.'"
      ]
     },
     "execution_count": 20,
     "metadata": {},
     "output_type": "execute_result"
    }
   ],
   "source": [
    "input_texts[0]"
   ]
  },
  {
   "cell_type": "code",
   "execution_count": 21,
   "metadata": {
    "colab": {
     "base_uri": "https://localhost:8080/",
     "height": 227
    },
    "id": "iDpkCQSgJ5Qe",
    "outputId": "423a480e-0400-40c4-a666-5236aa0c0a51"
   },
   "outputs": [
    {
     "data": {
      "text/plain": [
       "'\\tGå.\\n'"
      ]
     },
     "execution_count": 21,
     "metadata": {},
     "output_type": "execute_result"
    }
   ],
   "source": [
    "target_texts[0]"
   ]
  },
  {
   "cell_type": "markdown",
   "metadata": {
    "id": "6RBq80F6J5Qf"
   },
   "source": [
    "Be sure to undesrtand how the arrays `decoder_input_data` and `decoder_target_data` are structured. In your report, you will explain it. You will give an example."
   ]
  },
  {
   "cell_type": "code",
   "execution_count": 22,
   "metadata": {
    "id": "qcl41F0BJ5Qf"
   },
   "outputs": [],
   "source": [
    "for i, (input_text, target_text) in enumerate(zip(input_texts, target_texts)):\n",
    "    for t, char in enumerate(input_text):\n",
    "        encoder_input_data[i, t, input_token_index[char]] = 1.0\n",
    "    encoder_input_data[i, t + 1 :, input_token_index[\" \"]] = 1.0\n",
    "    for t, char in enumerate(target_text):\n",
    "        # decoder_target_data is ahead of decoder_input_data by one timestep\n",
    "        decoder_input_data[i, t, target_token_index[char]] = 1.0\n",
    "        if t > 0:\n",
    "            # decoder_target_data will be ahead by one timestep\n",
    "            # and will not include the start character.\n",
    "            decoder_target_data[i, t - 1, target_token_index[char]] = 1.0\n",
    "    decoder_input_data[i, t + 1 :, target_token_index[\" \"]] = 1.0\n",
    "    decoder_target_data[i, t:, target_token_index[\" \"]] = 1.0"
   ]
  },
  {
   "cell_type": "markdown",
   "metadata": {
    "id": "dYp4GRBmJ5Qg"
   },
   "source": [
    "### Understanding the vectorization"
   ]
  },
  {
   "cell_type": "code",
   "execution_count": 23,
   "metadata": {
    "colab": {
     "base_uri": "https://localhost:8080/"
    },
    "id": "HO45n_mmJ5Qh",
    "outputId": "651eb483-5d2e-4672-8a24-8a3d3f96ca13"
   },
   "outputs": [
    {
     "data": {
      "text/plain": [
       "array([[0., 0., 0., ..., 0., 0., 0.],\n",
       "       [0., 0., 0., ..., 0., 0., 0.],\n",
       "       [0., 0., 0., ..., 0., 0., 0.],\n",
       "       ...,\n",
       "       [1., 0., 0., ..., 0., 0., 0.],\n",
       "       [1., 0., 0., ..., 0., 0., 0.],\n",
       "       [1., 0., 0., ..., 0., 0., 0.]], dtype=float32)"
      ]
     },
     "execution_count": 23,
     "metadata": {},
     "output_type": "execute_result"
    }
   ],
   "source": [
    "encoder_input_data[0]"
   ]
  },
  {
   "cell_type": "code",
   "execution_count": 24,
   "metadata": {
    "colab": {
     "base_uri": "https://localhost:8080/"
    },
    "id": "ZOYVnR2AJ5Qj",
    "outputId": "e3ae0678-38ed-4466-e642-91c69a6505f1"
   },
   "outputs": [
    {
     "data": {
      "text/plain": [
       "22"
      ]
     },
     "execution_count": 24,
     "metadata": {},
     "output_type": "execute_result"
    }
   ],
   "source": [
    "input_token_index['G']"
   ]
  },
  {
   "cell_type": "code",
   "execution_count": 25,
   "metadata": {
    "colab": {
     "base_uri": "https://localhost:8080/"
    },
    "id": "LE6WuxVDJ5Qk",
    "outputId": "607cb6d5-dd10-4a99-93c7-7e522cf9672d"
   },
   "outputs": [
    {
     "data": {
      "text/plain": [
       "array([[0., 0., 0., 0., 0., 0., 0., 0., 0., 0., 0., 0., 0., 0., 0., 0.,\n",
       "        0., 0., 0., 0., 0., 0., 1., 0., 0., 0., 0., 0., 0., 0., 0., 0.,\n",
       "        0., 0., 0., 0., 0., 0., 0., 0., 0., 0., 0., 0., 0., 0., 0., 0.,\n",
       "        0., 0., 0., 0., 0., 0., 0., 0., 0., 0., 0., 0., 0., 0., 0., 0.,\n",
       "        0., 0.],\n",
       "       [0., 0., 0., 0., 0., 0., 0., 0., 0., 0., 0., 0., 0., 0., 0., 0.,\n",
       "        0., 0., 0., 0., 0., 0., 0., 0., 0., 0., 0., 0., 0., 0., 0., 0.,\n",
       "        0., 0., 0., 0., 0., 0., 0., 0., 0., 0., 0., 0., 0., 0., 0., 0.,\n",
       "        0., 0., 0., 0., 0., 1., 0., 0., 0., 0., 0., 0., 0., 0., 0., 0.,\n",
       "        0., 0.],\n",
       "       [0., 0., 0., 0., 0., 0., 1., 0., 0., 0., 0., 0., 0., 0., 0., 0.,\n",
       "        0., 0., 0., 0., 0., 0., 0., 0., 0., 0., 0., 0., 0., 0., 0., 0.,\n",
       "        0., 0., 0., 0., 0., 0., 0., 0., 0., 0., 0., 0., 0., 0., 0., 0.,\n",
       "        0., 0., 0., 0., 0., 0., 0., 0., 0., 0., 0., 0., 0., 0., 0., 0.,\n",
       "        0., 0.],\n",
       "       [1., 0., 0., 0., 0., 0., 0., 0., 0., 0., 0., 0., 0., 0., 0., 0.,\n",
       "        0., 0., 0., 0., 0., 0., 0., 0., 0., 0., 0., 0., 0., 0., 0., 0.,\n",
       "        0., 0., 0., 0., 0., 0., 0., 0., 0., 0., 0., 0., 0., 0., 0., 0.,\n",
       "        0., 0., 0., 0., 0., 0., 0., 0., 0., 0., 0., 0., 0., 0., 0., 0.,\n",
       "        0., 0.],\n",
       "       [1., 0., 0., 0., 0., 0., 0., 0., 0., 0., 0., 0., 0., 0., 0., 0.,\n",
       "        0., 0., 0., 0., 0., 0., 0., 0., 0., 0., 0., 0., 0., 0., 0., 0.,\n",
       "        0., 0., 0., 0., 0., 0., 0., 0., 0., 0., 0., 0., 0., 0., 0., 0.,\n",
       "        0., 0., 0., 0., 0., 0., 0., 0., 0., 0., 0., 0., 0., 0., 0., 0.,\n",
       "        0., 0.]], dtype=float32)"
      ]
     },
     "execution_count": 25,
     "metadata": {},
     "output_type": "execute_result"
    }
   ],
   "source": [
    "encoder_input_data[0][:5]"
   ]
  },
  {
   "cell_type": "code",
   "execution_count": 26,
   "metadata": {
    "colab": {
     "base_uri": "https://localhost:8080/"
    },
    "id": "bu9li0O-J5Ql",
    "outputId": "e7518776-8a8c-4010-e6a2-8af9a5147c72"
   },
   "outputs": [
    {
     "data": {
      "text/plain": [
       "array([[1., 0., 0., ..., 0., 0., 0.],\n",
       "       [0., 0., 0., ..., 0., 0., 0.],\n",
       "       [0., 0., 0., ..., 0., 0., 0.],\n",
       "       ...,\n",
       "       [0., 0., 1., ..., 0., 0., 0.],\n",
       "       [0., 0., 1., ..., 0., 0., 0.],\n",
       "       [0., 0., 1., ..., 0., 0., 0.]], dtype=float32)"
      ]
     },
     "execution_count": 26,
     "metadata": {},
     "output_type": "execute_result"
    }
   ],
   "source": [
    "decoder_input_data[0]"
   ]
  },
  {
   "cell_type": "code",
   "execution_count": 27,
   "metadata": {
    "colab": {
     "base_uri": "https://localhost:8080/"
    },
    "id": "QQk7t-ZiJ5Ql",
    "outputId": "15d68f4d-5f13-4712-a645-2e128d0bb6af"
   },
   "outputs": [
    {
     "data": {
      "text/plain": [
       "36"
      ]
     },
     "execution_count": 27,
     "metadata": {},
     "output_type": "execute_result"
    }
   ],
   "source": [
    "target_token_index['V']"
   ]
  },
  {
   "cell_type": "code",
   "execution_count": 28,
   "metadata": {
    "colab": {
     "base_uri": "https://localhost:8080/"
    },
    "id": "nr46wH9yJ5Qm",
    "outputId": "9acbdf14-173b-4296-b453-9b6f945dc998"
   },
   "outputs": [
    {
     "data": {
      "text/plain": [
       "array([[1., 0., 0., 0., 0., 0., 0., 0., 0., 0., 0., 0., 0., 0., 0., 0.,\n",
       "        0., 0., 0., 0., 0., 0., 0., 0., 0., 0., 0., 0., 0., 0., 0., 0.,\n",
       "        0., 0., 0., 0., 0., 0., 0., 0., 0., 0., 0., 0., 0., 0., 0., 0.,\n",
       "        0., 0., 0., 0., 0., 0., 0., 0., 0., 0., 0., 0., 0., 0., 0., 0.,\n",
       "        0., 0., 0., 0., 0., 0., 0., 0., 0.],\n",
       "       [0., 0., 0., 0., 0., 0., 0., 0., 0., 0., 0., 0., 0., 0., 0., 0.,\n",
       "        0., 0., 0., 0., 0., 0., 1., 0., 0., 0., 0., 0., 0., 0., 0., 0.,\n",
       "        0., 0., 0., 0., 0., 0., 0., 0., 0., 0., 0., 0., 0., 0., 0., 0.,\n",
       "        0., 0., 0., 0., 0., 0., 0., 0., 0., 0., 0., 0., 0., 0., 0., 0.,\n",
       "        0., 0., 0., 0., 0., 0., 0., 0., 0.],\n",
       "       [0., 0., 0., 0., 0., 0., 0., 0., 0., 0., 0., 0., 0., 0., 0., 0.,\n",
       "        0., 0., 0., 0., 0., 0., 0., 0., 0., 0., 0., 0., 0., 0., 0., 0.,\n",
       "        0., 0., 0., 0., 0., 0., 0., 0., 0., 0., 0., 0., 0., 0., 0., 0.,\n",
       "        0., 0., 0., 0., 0., 0., 0., 0., 0., 0., 0., 0., 0., 0., 0., 0.,\n",
       "        0., 0., 0., 0., 0., 1., 0., 0., 0.],\n",
       "       [0., 0., 0., 0., 0., 0., 1., 0., 0., 0., 0., 0., 0., 0., 0., 0.,\n",
       "        0., 0., 0., 0., 0., 0., 0., 0., 0., 0., 0., 0., 0., 0., 0., 0.,\n",
       "        0., 0., 0., 0., 0., 0., 0., 0., 0., 0., 0., 0., 0., 0., 0., 0.,\n",
       "        0., 0., 0., 0., 0., 0., 0., 0., 0., 0., 0., 0., 0., 0., 0., 0.,\n",
       "        0., 0., 0., 0., 0., 0., 0., 0., 0.],\n",
       "       [0., 1., 0., 0., 0., 0., 0., 0., 0., 0., 0., 0., 0., 0., 0., 0.,\n",
       "        0., 0., 0., 0., 0., 0., 0., 0., 0., 0., 0., 0., 0., 0., 0., 0.,\n",
       "        0., 0., 0., 0., 0., 0., 0., 0., 0., 0., 0., 0., 0., 0., 0., 0.,\n",
       "        0., 0., 0., 0., 0., 0., 0., 0., 0., 0., 0., 0., 0., 0., 0., 0.,\n",
       "        0., 0., 0., 0., 0., 0., 0., 0., 0.]], dtype=float32)"
      ]
     },
     "execution_count": 28,
     "metadata": {},
     "output_type": "execute_result"
    }
   ],
   "source": [
    "decoder_input_data[0][:5]"
   ]
  },
  {
   "cell_type": "code",
   "execution_count": 29,
   "metadata": {
    "colab": {
     "base_uri": "https://localhost:8080/"
    },
    "id": "uIMWJB47J5Qm",
    "outputId": "b160d276-0d34-40b0-bcdc-a6f0504c4374",
    "scrolled": true
   },
   "outputs": [
    {
     "data": {
      "text/plain": [
       "array([[0., 0., 0., 0., 0., 0., 0., 0., 0., 0., 0., 0., 0., 0., 0., 0.,\n",
       "        0., 0., 0., 0., 0., 0., 1., 0., 0., 0., 0., 0., 0., 0., 0., 0.,\n",
       "        0., 0., 0., 0., 0., 0., 0., 0., 0., 0., 0., 0., 0., 0., 0., 0.,\n",
       "        0., 0., 0., 0., 0., 0., 0., 0., 0., 0., 0., 0., 0., 0., 0., 0.,\n",
       "        0., 0., 0., 0., 0., 0., 0., 0., 0.],\n",
       "       [0., 0., 0., 0., 0., 0., 0., 0., 0., 0., 0., 0., 0., 0., 0., 0.,\n",
       "        0., 0., 0., 0., 0., 0., 0., 0., 0., 0., 0., 0., 0., 0., 0., 0.,\n",
       "        0., 0., 0., 0., 0., 0., 0., 0., 0., 0., 0., 0., 0., 0., 0., 0.,\n",
       "        0., 0., 0., 0., 0., 0., 0., 0., 0., 0., 0., 0., 0., 0., 0., 0.,\n",
       "        0., 0., 0., 0., 0., 1., 0., 0., 0.],\n",
       "       [0., 0., 0., 0., 0., 0., 1., 0., 0., 0., 0., 0., 0., 0., 0., 0.,\n",
       "        0., 0., 0., 0., 0., 0., 0., 0., 0., 0., 0., 0., 0., 0., 0., 0.,\n",
       "        0., 0., 0., 0., 0., 0., 0., 0., 0., 0., 0., 0., 0., 0., 0., 0.,\n",
       "        0., 0., 0., 0., 0., 0., 0., 0., 0., 0., 0., 0., 0., 0., 0., 0.,\n",
       "        0., 0., 0., 0., 0., 0., 0., 0., 0.],\n",
       "       [0., 1., 0., 0., 0., 0., 0., 0., 0., 0., 0., 0., 0., 0., 0., 0.,\n",
       "        0., 0., 0., 0., 0., 0., 0., 0., 0., 0., 0., 0., 0., 0., 0., 0.,\n",
       "        0., 0., 0., 0., 0., 0., 0., 0., 0., 0., 0., 0., 0., 0., 0., 0.,\n",
       "        0., 0., 0., 0., 0., 0., 0., 0., 0., 0., 0., 0., 0., 0., 0., 0.,\n",
       "        0., 0., 0., 0., 0., 0., 0., 0., 0.],\n",
       "       [0., 0., 1., 0., 0., 0., 0., 0., 0., 0., 0., 0., 0., 0., 0., 0.,\n",
       "        0., 0., 0., 0., 0., 0., 0., 0., 0., 0., 0., 0., 0., 0., 0., 0.,\n",
       "        0., 0., 0., 0., 0., 0., 0., 0., 0., 0., 0., 0., 0., 0., 0., 0.,\n",
       "        0., 0., 0., 0., 0., 0., 0., 0., 0., 0., 0., 0., 0., 0., 0., 0.,\n",
       "        0., 0., 0., 0., 0., 0., 0., 0., 0.]], dtype=float32)"
      ]
     },
     "execution_count": 29,
     "metadata": {},
     "output_type": "execute_result"
    }
   ],
   "source": [
    "decoder_target_data[0][:5]"
   ]
  },
  {
   "cell_type": "markdown",
   "metadata": {
    "id": "9-XliD1MJ5Qn"
   },
   "source": [
    "## Build the model"
   ]
  },
  {
   "cell_type": "code",
   "execution_count": 30,
   "metadata": {
    "id": "eZfQj3EvJ5Qn"
   },
   "outputs": [],
   "source": [
    "# Define an input sequence and process it.\n",
    "encoder_inputs = keras.Input(shape=(None, num_encoder_tokens), name='encoder_input')\n",
    "encoder = keras.layers.LSTM(latent_dim, return_state=True, name='encoder_lstm')\n",
    "encoder_outputs, state_h, state_c = encoder(encoder_inputs)"
   ]
  },
  {
   "cell_type": "code",
   "execution_count": 31,
   "metadata": {
    "id": "wuaeO7RDJ5Qn"
   },
   "outputs": [],
   "source": [
    "# We discard `encoder_outputs` and only keep the states.\n",
    "encoder_states = [state_h, state_c]"
   ]
  },
  {
   "cell_type": "code",
   "execution_count": 32,
   "metadata": {
    "id": "zA5F7fiAJ5Qo"
   },
   "outputs": [],
   "source": [
    "# Set up the decoder, using `encoder_states` as initial state.\n",
    "decoder_inputs = keras.Input(shape=(None, num_decoder_tokens), name='decoder_input')"
   ]
  },
  {
   "cell_type": "code",
   "execution_count": 33,
   "metadata": {
    "id": "W7fBFL4tJ5Qo"
   },
   "outputs": [],
   "source": [
    "# We set up our decoder to return full output sequences,\n",
    "# and to return internal states as well. We don't use the\n",
    "# return states in the training model, but we will use them in inference.\n",
    "decoder_lstm = keras.layers.LSTM(latent_dim, return_sequences=True, return_state=True, name='decoder_lstm', dropout=0, recurrent_dropout=0.2)\n",
    "decoder_outputs, _, _ = decoder_lstm(decoder_inputs, initial_state=encoder_states)\n",
    "decoder_dense = keras.layers.Dense(num_decoder_tokens, activation=\"softmax\", name='decoder_dense')\n",
    "decoder_outputs = decoder_dense(decoder_outputs)"
   ]
  },
  {
   "cell_type": "code",
   "execution_count": 34,
   "metadata": {
    "id": "JsqNsxRWJ5Qo"
   },
   "outputs": [],
   "source": [
    "# Define the model that will turn\n",
    "# `encoder_input_data` & `decoder_input_data` into `decoder_target_data`\n",
    "model = keras.Model([encoder_inputs, decoder_inputs], decoder_outputs)"
   ]
  },
  {
   "cell_type": "markdown",
   "metadata": {
    "id": "kZ7xXUiIJ5Qp"
   },
   "source": [
    "## Train the model"
   ]
  },
  {
   "cell_type": "code",
   "execution_count": 35,
   "metadata": {
    "id": "mcvDXoyhJ5Qp"
   },
   "outputs": [],
   "source": [
    "model.compile(\n",
    "    optimizer=\"rmsprop\", loss=\"categorical_crossentropy\", metrics=[\"accuracy\"]\n",
    ")"
   ]
  },
  {
   "cell_type": "code",
   "execution_count": 36,
   "metadata": {
    "colab": {
     "base_uri": "https://localhost:8080/"
    },
    "id": "pkx6bzGjJ5Qq",
    "outputId": "b5723aa9-d915-4ea9-b3f6-955be4ae093a"
   },
   "outputs": [
    {
     "name": "stdout",
     "output_type": "stream",
     "text": [
      "Model: \"model\"\n",
      "__________________________________________________________________________________________________\n",
      "Layer (type)                    Output Shape         Param #     Connected to                     \n",
      "==================================================================================================\n",
      "encoder_input (InputLayer)      [(None, None, 66)]   0                                            \n",
      "__________________________________________________________________________________________________\n",
      "decoder_input (InputLayer)      [(None, None, 73)]   0                                            \n",
      "__________________________________________________________________________________________________\n",
      "encoder_lstm (LSTM)             [(None, 256), (None, 330752      encoder_input[0][0]              \n",
      "__________________________________________________________________________________________________\n",
      "decoder_lstm (LSTM)             [(None, None, 256),  337920      decoder_input[0][0]              \n",
      "                                                                 encoder_lstm[0][1]               \n",
      "                                                                 encoder_lstm[0][2]               \n",
      "__________________________________________________________________________________________________\n",
      "decoder_dense (Dense)           (None, None, 73)     18761       decoder_lstm[0][0]               \n",
      "==================================================================================================\n",
      "Total params: 687,433\n",
      "Trainable params: 687,433\n",
      "Non-trainable params: 0\n",
      "__________________________________________________________________________________________________\n"
     ]
    }
   ],
   "source": [
    "model.summary()"
   ]
  },
  {
   "cell_type": "code",
   "execution_count": 37,
   "metadata": {
    "id": "KmVd2ZW6J5Qr"
   },
   "outputs": [],
   "source": [
    "callback_list = [\n",
    "    keras.callbacks.EarlyStopping(monitor='val_loss', patience=5),\n",
    "    keras.callbacks.ModelCheckpoint(filepath='initial.keras', monitor='val_loss', save_best_only=True)\n",
    "]"
   ]
  },
  {
   "cell_type": "code",
   "execution_count": 38,
   "metadata": {
    "colab": {
     "base_uri": "https://localhost:8080/"
    },
    "id": "J7Bn2EcHJ5Qr",
    "outputId": "b14d34fb-422e-406f-a8cd-30d62023cfa4"
   },
   "outputs": [
    {
     "name": "stdout",
     "output_type": "stream",
     "text": [
      "Train on 8000 samples, validate on 2000 samples\n",
      "Epoch 1/40\n",
      "8000/8000 [==============================] - 43s 5ms/sample - loss: 1.4474 - accuracy: 0.6514 - val_loss: 1.5890 - val_accuracy: 0.5975\n",
      "Epoch 2/40\n",
      "8000/8000 [==============================] - 39s 5ms/sample - loss: 1.0793 - accuracy: 0.7070 - val_loss: 1.1745 - val_accuracy: 0.6659\n",
      "Epoch 3/40\n",
      "8000/8000 [==============================] - 38s 5ms/sample - loss: 0.8886 - accuracy: 0.7480 - val_loss: 1.0262 - val_accuracy: 0.6997\n",
      "Epoch 4/40\n",
      "8000/8000 [==============================] - 40s 5ms/sample - loss: 0.7974 - accuracy: 0.7688 - val_loss: 0.9665 - val_accuracy: 0.7133\n",
      "Epoch 5/40\n",
      "8000/8000 [==============================] - 37s 5ms/sample - loss: 0.7445 - accuracy: 0.7829 - val_loss: 0.9116 - val_accuracy: 0.7272\n",
      "Epoch 6/40\n",
      "8000/8000 [==============================] - 37s 5ms/sample - loss: 0.7061 - accuracy: 0.7940 - val_loss: 0.8679 - val_accuracy: 0.7453\n",
      "Epoch 7/40\n",
      "8000/8000 [==============================] - 38s 5ms/sample - loss: 0.6744 - accuracy: 0.8022 - val_loss: 0.8470 - val_accuracy: 0.7487\n",
      "Epoch 8/40\n",
      "8000/8000 [==============================] - 36s 5ms/sample - loss: 0.6483 - accuracy: 0.8088 - val_loss: 0.8064 - val_accuracy: 0.7628\n",
      "Epoch 9/40\n",
      "8000/8000 [==============================] - 36s 5ms/sample - loss: 0.6259 - accuracy: 0.8154 - val_loss: 0.7879 - val_accuracy: 0.7656\n",
      "Epoch 10/40\n",
      "8000/8000 [==============================] - 41s 5ms/sample - loss: 0.6060 - accuracy: 0.8204 - val_loss: 0.7704 - val_accuracy: 0.7699\n",
      "Epoch 11/40\n",
      "8000/8000 [==============================] - 41s 5ms/sample - loss: 0.5894 - accuracy: 0.8253 - val_loss: 0.7490 - val_accuracy: 0.7792\n",
      "Epoch 12/40\n",
      "8000/8000 [==============================] - 46s 6ms/sample - loss: 0.5753 - accuracy: 0.8291 - val_loss: 0.7376 - val_accuracy: 0.7824\n",
      "Epoch 13/40\n",
      "8000/8000 [==============================] - 43s 5ms/sample - loss: 0.5606 - accuracy: 0.8333 - val_loss: 0.7203 - val_accuracy: 0.7869\n",
      "Epoch 14/40\n",
      "8000/8000 [==============================] - 39s 5ms/sample - loss: 0.5489 - accuracy: 0.8368 - val_loss: 0.7244 - val_accuracy: 0.7858\n",
      "Epoch 15/40\n",
      "8000/8000 [==============================] - 39s 5ms/sample - loss: 0.5367 - accuracy: 0.8403 - val_loss: 0.6946 - val_accuracy: 0.7945\n",
      "Epoch 16/40\n",
      "8000/8000 [==============================] - 46s 6ms/sample - loss: 0.5243 - accuracy: 0.8437 - val_loss: 0.6888 - val_accuracy: 0.7970\n",
      "Epoch 17/40\n",
      "8000/8000 [==============================] - 43s 5ms/sample - loss: 0.5133 - accuracy: 0.8467 - val_loss: 0.6768 - val_accuracy: 0.7998\n",
      "Epoch 18/40\n",
      "8000/8000 [==============================] - 41s 5ms/sample - loss: 0.5034 - accuracy: 0.8502 - val_loss: 0.6673 - val_accuracy: 0.8031\n",
      "Epoch 19/40\n",
      "8000/8000 [==============================] - 38s 5ms/sample - loss: 0.4934 - accuracy: 0.8528 - val_loss: 0.6599 - val_accuracy: 0.8053\n",
      "Epoch 20/40\n",
      "8000/8000 [==============================] - 37s 5ms/sample - loss: 0.4848 - accuracy: 0.8548 - val_loss: 0.6503 - val_accuracy: 0.8069\n",
      "Epoch 21/40\n",
      "8000/8000 [==============================] - 34s 4ms/sample - loss: 0.4753 - accuracy: 0.8580 - val_loss: 0.6463 - val_accuracy: 0.8086\n",
      "Epoch 22/40\n",
      "8000/8000 [==============================] - 35s 4ms/sample - loss: 0.4678 - accuracy: 0.8599 - val_loss: 0.6399 - val_accuracy: 0.8113\n",
      "Epoch 23/40\n",
      "8000/8000 [==============================] - 34s 4ms/sample - loss: 0.4600 - accuracy: 0.8623 - val_loss: 0.6353 - val_accuracy: 0.8129\n",
      "Epoch 24/40\n",
      "8000/8000 [==============================] - 35s 4ms/sample - loss: 0.4524 - accuracy: 0.8646 - val_loss: 0.6267 - val_accuracy: 0.8157\n",
      "Epoch 25/40\n",
      "8000/8000 [==============================] - 35s 4ms/sample - loss: 0.4448 - accuracy: 0.8670 - val_loss: 0.6218 - val_accuracy: 0.8170\n",
      "Epoch 26/40\n",
      "8000/8000 [==============================] - 34s 4ms/sample - loss: 0.4378 - accuracy: 0.8689 - val_loss: 0.6195 - val_accuracy: 0.8178\n",
      "Epoch 27/40\n",
      "8000/8000 [==============================] - 34s 4ms/sample - loss: 0.4306 - accuracy: 0.8711 - val_loss: 0.6135 - val_accuracy: 0.8195\n",
      "Epoch 28/40\n",
      "8000/8000 [==============================] - 35s 4ms/sample - loss: 0.4240 - accuracy: 0.8730 - val_loss: 0.6086 - val_accuracy: 0.8212\n",
      "Epoch 29/40\n",
      "8000/8000 [==============================] - 34s 4ms/sample - loss: 0.4188 - accuracy: 0.8741 - val_loss: 0.6036 - val_accuracy: 0.8232\n",
      "Epoch 30/40\n",
      "8000/8000 [==============================] - 34s 4ms/sample - loss: 0.4123 - accuracy: 0.8763 - val_loss: 0.6002 - val_accuracy: 0.8243\n",
      "Epoch 31/40\n",
      "8000/8000 [==============================] - 35s 4ms/sample - loss: 0.4076 - accuracy: 0.8774 - val_loss: 0.5959 - val_accuracy: 0.8248\n",
      "Epoch 32/40\n",
      "8000/8000 [==============================] - 36s 4ms/sample - loss: 0.4013 - accuracy: 0.8792 - val_loss: 0.5931 - val_accuracy: 0.8261\n",
      "Epoch 33/40\n",
      "8000/8000 [==============================] - 36s 4ms/sample - loss: 0.3959 - accuracy: 0.8806 - val_loss: 0.5909 - val_accuracy: 0.8272\n",
      "Epoch 34/40\n",
      "8000/8000 [==============================] - 36s 4ms/sample - loss: 0.3901 - accuracy: 0.8823 - val_loss: 0.5874 - val_accuracy: 0.8281\n",
      "Epoch 35/40\n",
      "8000/8000 [==============================] - 37s 5ms/sample - loss: 0.3848 - accuracy: 0.8836 - val_loss: 0.5885 - val_accuracy: 0.8284\n",
      "Epoch 36/40\n",
      "8000/8000 [==============================] - 35s 4ms/sample - loss: 0.3807 - accuracy: 0.8847 - val_loss: 0.5864 - val_accuracy: 0.8287\n",
      "Epoch 37/40\n",
      "8000/8000 [==============================] - 37s 5ms/sample - loss: 0.3756 - accuracy: 0.8864 - val_loss: 0.5843 - val_accuracy: 0.8304\n",
      "Epoch 38/40\n",
      "8000/8000 [==============================] - 40s 5ms/sample - loss: 0.3711 - accuracy: 0.8878 - val_loss: 0.5791 - val_accuracy: 0.8312\n",
      "Epoch 39/40\n",
      "8000/8000 [==============================] - 40s 5ms/sample - loss: 0.3669 - accuracy: 0.8892 - val_loss: 0.5788 - val_accuracy: 0.8320\n",
      "Epoch 40/40\n",
      "8000/8000 [==============================] - 41s 5ms/sample - loss: 0.3625 - accuracy: 0.8903 - val_loss: 0.5750 - val_accuracy: 0.8329\n"
     ]
    }
   ],
   "source": [
    "history = model.fit(\n",
    "    [encoder_input_data, decoder_input_data],\n",
    "    decoder_target_data,\n",
    "    batch_size=batch_size,\n",
    "    epochs=epochs,\n",
    "    validation_split=0.2,\n",
    "    callbacks=callback_list\n",
    ")"
   ]
  },
  {
   "cell_type": "code",
   "execution_count": 39,
   "metadata": {
    "id": "142Jy6EGJ5Qs"
   },
   "outputs": [],
   "source": [
    "acc = history.history['accuracy']\n",
    "val_acc = history.history['val_accuracy']\n",
    "loss = history.history['loss']\n",
    "val_loss = history.history['val_loss']\n",
    "epochs = range(1, len(acc) + 1)"
   ]
  },
  {
   "cell_type": "code",
   "execution_count": 40,
   "metadata": {
    "colab": {
     "base_uri": "https://localhost:8080/",
     "height": 295
    },
    "id": "2G2qSn3vJ5Qt",
    "outputId": "a34ac8fd-985a-4a0f-dee6-d5d85916b352"
   },
   "outputs": [
    {
     "data": {
      "image/png": "[encoded data removed]",
      "text/plain": [
       "<Figure size 432x288 with 1 Axes>"
      ]
     },
     "metadata": {
      "needs_background": "light"
     },
     "output_type": "display_data"
    }
   ],
   "source": [
    "plt.plot(epochs, loss, 'bo', label='Training loss')\n",
    "plt.plot(epochs, val_loss, 'b', label='Validation loss')\n",
    "plt.title('Training and validation loss')\n",
    "plt.xlabel('Epochs')\n",
    "plt.ylabel('Loss')\n",
    "plt.legend()\n",
    "plt.show()"
   ]
  },
  {
   "cell_type": "code",
   "execution_count": 41,
   "metadata": {
    "colab": {
     "base_uri": "https://localhost:8080/",
     "height": 295
    },
    "id": "EI7zNFNbJ5Qu",
    "outputId": "83edb947-9590-47b5-e8cf-df478cda1b60"
   },
   "outputs": [
    {
     "data": {
      "image/png": "[encoded data removed]",
      "text/plain": [
       "<Figure size 432x288 with 1 Axes>"
      ]
     },
     "metadata": {
      "needs_background": "light"
     },
     "output_type": "display_data"
    }
   ],
   "source": [
    "plt.plot(epochs, acc, 'bo', label='Training acc')\n",
    "plt.plot(epochs, val_acc, 'b', label='Validation acc')\n",
    "plt.title('Training and validation accuracy')\n",
    "plt.xlabel('Epochs')\n",
    "plt.ylabel('Accuracy')\n",
    "plt.show()"
   ]
  },
  {
   "cell_type": "code",
   "execution_count": 42,
   "metadata": {
    "id": "Q0vF0FWLJ5Qu"
   },
   "outputs": [],
   "source": [
    "# Save model\n",
    "#model.save('initial.keras')"
   ]
  },
  {
   "cell_type": "markdown",
   "metadata": {
    "id": "UdmIRye-J5Qv"
   },
   "source": [
    "## Run inference (sampling)\n",
    "1. encode input and retrieve initial decoder state\n",
    "2. run one step of decoder with this initial state\n",
    "and a \"start of sequence\" token as target.\n",
    "Output will be the next target token.\n",
    "3. Repeat with the current target token and current states"
   ]
  },
  {
   "cell_type": "code",
   "execution_count": 43,
   "metadata": {
    "id": "XaZStQVxJ5Qw"
   },
   "outputs": [],
   "source": [
    "# Define sampling models\n",
    "# Restore the model and construct the encoder and decoder.\n",
    "#model = keras.models.load_model('initial.keras')"
   ]
  },
  {
   "cell_type": "code",
   "execution_count": 44,
   "metadata": {
    "colab": {
     "base_uri": "https://localhost:8080/"
    },
    "id": "_0Tas0t0J5Qx",
    "outputId": "2a89937b-805a-48c8-e2c2-b9850f085efd"
   },
   "outputs": [
    {
     "name": "stdout",
     "output_type": "stream",
     "text": [
      "Model: \"model\"\n",
      "__________________________________________________________________________________________________\n",
      "Layer (type)                    Output Shape         Param #     Connected to                     \n",
      "==================================================================================================\n",
      "encoder_input (InputLayer)      [(None, None, 66)]   0                                            \n",
      "__________________________________________________________________________________________________\n",
      "decoder_input (InputLayer)      [(None, None, 73)]   0                                            \n",
      "__________________________________________________________________________________________________\n",
      "encoder_lstm (LSTM)             [(None, 256), (None, 330752      encoder_input[0][0]              \n",
      "__________________________________________________________________________________________________\n",
      "decoder_lstm (LSTM)             [(None, None, 256),  337920      decoder_input[0][0]              \n",
      "                                                                 encoder_lstm[0][1]               \n",
      "                                                                 encoder_lstm[0][2]               \n",
      "__________________________________________________________________________________________________\n",
      "decoder_dense (Dense)           (None, None, 73)     18761       decoder_lstm[0][0]               \n",
      "==================================================================================================\n",
      "Total params: 687,433\n",
      "Trainable params: 687,433\n",
      "Non-trainable params: 0\n",
      "__________________________________________________________________________________________________\n"
     ]
    }
   ],
   "source": [
    "model.summary()"
   ]
  },
  {
   "cell_type": "code",
   "execution_count": 45,
   "metadata": {
    "colab": {
     "base_uri": "https://localhost:8080/"
    },
    "id": "9Uyh48R8J5Q0",
    "outputId": "aa8882c4-02fa-4cf5-8576-18272fd97700"
   },
   "outputs": [
    {
     "data": {
      "text/plain": [
       "[<tensorflow.python.keras.engine.input_layer.InputLayer at 0x7fed0cd33f60>,\n",
       " <tensorflow.python.keras.engine.input_layer.InputLayer at 0x7fec9c2d3550>,\n",
       " <tensorflow.python.keras.layers.recurrent_v2.LSTM at 0x7fed0cd33be0>,\n",
       " <tensorflow.python.keras.layers.recurrent_v2.LSTM at 0x7fec9c365cc0>,\n",
       " <tensorflow.python.keras.layers.core.Dense at 0x7fec9c0e8e10>]"
      ]
     },
     "execution_count": 45,
     "metadata": {},
     "output_type": "execute_result"
    }
   ],
   "source": [
    "model.layers"
   ]
  },
  {
   "cell_type": "code",
   "execution_count": 46,
   "metadata": {
    "colab": {
     "base_uri": "https://localhost:8080/"
    },
    "id": "0Wb02M05J5Q3",
    "outputId": "8b34405a-afd9-4cdb-8e1f-35d67cc4b4e8"
   },
   "outputs": [
    {
     "data": {
      "text/plain": [
       "['encoder_input',\n",
       " 'decoder_input',\n",
       " 'encoder_lstm',\n",
       " 'decoder_lstm',\n",
       " 'decoder_dense']"
      ]
     },
     "execution_count": 46,
     "metadata": {},
     "output_type": "execute_result"
    }
   ],
   "source": [
    "[model_layer.name for model_layer in model.layers]"
   ]
  },
  {
   "cell_type": "code",
   "execution_count": 47,
   "metadata": {
    "colab": {
     "base_uri": "https://localhost:8080/"
    },
    "id": "hCTzbW_TJ5Q6",
    "outputId": "236b5918-ec68-4b5b-fa07-d64d5c72d1f6"
   },
   "outputs": [
    {
     "data": {
      "text/plain": [
       "[<tf.Tensor 'encoder_input:0' shape=(None, None, 66) dtype=float32>,\n",
       " <tf.Tensor 'decoder_input:0' shape=(None, None, 73) dtype=float32>]"
      ]
     },
     "execution_count": 47,
     "metadata": {},
     "output_type": "execute_result"
    }
   ],
   "source": [
    "model.input"
   ]
  },
  {
   "cell_type": "code",
   "execution_count": 48,
   "metadata": {
    "id": "TQldh4c0J5Q7"
   },
   "outputs": [],
   "source": [
    "encoder_inputs = model.input[0]  # input_1\n",
    "encoder_outputs, state_h_enc, state_c_enc = model.layers[2].output  # lstm_1\n",
    "encoder_states = [state_h_enc, state_c_enc]\n",
    "encoder_model = keras.Model(encoder_inputs, encoder_states)"
   ]
  },
  {
   "cell_type": "code",
   "execution_count": 49,
   "metadata": {
    "id": "54VBDuRHJ5Q8"
   },
   "outputs": [],
   "source": [
    "decoder_inputs = model.input[1]  # input_2\n",
    "decoder_state_input_h = keras.Input(shape=(latent_dim,))\n",
    "decoder_state_input_c = keras.Input(shape=(latent_dim,))\n",
    "decoder_states_inputs = [decoder_state_input_h, decoder_state_input_c]\n",
    "decoder_lstm = model.layers[3]\n",
    "decoder_outputs, state_h_dec, state_c_dec = decoder_lstm(\n",
    "    decoder_inputs, initial_state=decoder_states_inputs\n",
    ")\n",
    "decoder_states = [state_h_dec, state_c_dec]\n",
    "decoder_dense = model.layers[4]\n",
    "decoder_outputs = decoder_dense(decoder_outputs)\n",
    "decoder_model = keras.Model(\n",
    "    [decoder_inputs] + decoder_states_inputs, [decoder_outputs] + decoder_states\n",
    ")"
   ]
  },
  {
   "cell_type": "code",
   "execution_count": 50,
   "metadata": {
    "id": "cP-4I3NZJ5Q8"
   },
   "outputs": [],
   "source": [
    "# Reverse-lookup token index to decode sequences back to\n",
    "# something readable.\n",
    "reverse_input_char_index = dict((i, char) for char, i in input_token_index.items())\n",
    "reverse_target_char_index = dict((i, char) for char, i in target_token_index.items())"
   ]
  },
  {
   "cell_type": "code",
   "execution_count": 51,
   "metadata": {
    "id": "i3U-h3-bJ5Q8"
   },
   "outputs": [],
   "source": [
    "def decode_sequence(input_seq):\n",
    "    # Encode the input as state vectors.\n",
    "    states_value = encoder_model.predict(input_seq)\n",
    "\n",
    "    # Generate empty target sequence of length 1.\n",
    "    target_seq = np.zeros((1, 1, num_decoder_tokens))\n",
    "    # Populate the first character of target sequence with the start character.\n",
    "    target_seq[0, 0, target_token_index[\"\\t\"]] = 1.0\n",
    "\n",
    "    # Sampling loop for a batch of sequences\n",
    "    # (to simplify, here we assume a batch of size 1).\n",
    "    stop_condition = False\n",
    "    decoded_sentence = \"\"\n",
    "    while not stop_condition:\n",
    "        output_tokens, h, c = decoder_model.predict([target_seq] + states_value, verbose=False)\n",
    "\n",
    "        # Sample a token\n",
    "        sampled_token_index = np.argmax(output_tokens[0, -1, :])\n",
    "        sampled_char = reverse_target_char_index[sampled_token_index]\n",
    "        decoded_sentence += sampled_char\n",
    "\n",
    "        # Exit condition: either hit max length\n",
    "        # or find stop character.\n",
    "        if sampled_char == \"\\n\" or len(decoded_sentence) > max_decoder_seq_length:\n",
    "            stop_condition = True\n",
    "\n",
    "        # Update the target sequence (of length 1).\n",
    "        target_seq = np.zeros((1, 1, num_decoder_tokens))\n",
    "        target_seq[0, 0, sampled_token_index] = 1.0\n",
    "\n",
    "        # Update states\n",
    "        states_value = [h, c]\n",
    "    return decoded_sentence"
   ]
  },
  {
   "cell_type": "markdown",
   "metadata": {
    "id": "VfZ6wWMUJ5Q9"
   },
   "source": [
    "\n",
    "You can now generate decoded sentences as such:"
   ]
  },
  {
   "cell_type": "code",
   "execution_count": 52,
   "metadata": {
    "colab": {
     "base_uri": "https://localhost:8080/"
    },
    "id": "h4992U-IJ5Q-",
    "outputId": "d6230155-2563-4e09-c13c-454048b7663b"
   },
   "outputs": [
    {
     "name": "stdout",
     "output_type": "stream",
     "text": [
      "-\n",
      "Input sentence: Go.\n",
      "Decoded sentence: Gå inte.\n",
      "\n",
      "-\n",
      "Input sentence: Run!\n",
      "Decoded sentence: Stanna kvar!\n",
      "\n",
      "-\n",
      "Input sentence: Who?\n",
      "Decoded sentence: Vem har han?\n",
      "\n",
      "-\n",
      "Input sentence: Help!\n",
      "Decoded sentence: Skynda dig!\n",
      "\n",
      "-\n",
      "Input sentence: Jump!\n",
      "Decoded sentence: Var inte!\n",
      "\n",
      "-\n",
      "Input sentence: Jump.\n",
      "Decoded sentence: Ska vi bil.\n",
      "\n",
      "-\n",
      "Input sentence: Stop!\n",
      "Decoded sentence: Stanna kvar!\n",
      "\n",
      "-\n",
      "Input sentence: Wait!\n",
      "Decoded sentence: Var inte!\n",
      "\n",
      "-\n",
      "Input sentence: Wait.\n",
      "Decoded sentence: Vänta mig.\n",
      "\n",
      "-\n",
      "Input sentence: Hurry!\n",
      "Decoded sentence: Skynda dig!\n",
      "\n",
      "-\n",
      "Input sentence: Hurry!\n",
      "Decoded sentence: Skynda dig!\n",
      "\n",
      "-\n",
      "Input sentence: Hurry!\n",
      "Decoded sentence: Skynda dig!\n",
      "\n",
      "-\n",
      "Input sentence: I ran.\n",
      "Decoded sentence: Jag är skyldig.\n",
      "\n",
      "-\n",
      "Input sentence: I see.\n",
      "Decoded sentence: Jag ser skada.\n",
      "\n",
      "-\n",
      "Input sentence: I see.\n",
      "Decoded sentence: Jag ser skada.\n",
      "\n",
      "-\n",
      "Input sentence: I won!\n",
      "Decoded sentence: Jag vill ha det.\n",
      "\n",
      "-\n",
      "Input sentence: Relax.\n",
      "Decoded sentence: Säg: ”är du gå.\n",
      "\n",
      "-\n",
      "Input sentence: Smile.\n",
      "Decoded sentence: Se den här.\n",
      "\n",
      "-\n",
      "Input sentence: Attack!\n",
      "Decoded sentence: Snälla kommer!\n",
      "\n",
      "-\n",
      "Input sentence: Cheers!\n",
      "Decoded sentence: Skynda dig!\n",
      "\n"
     ]
    }
   ],
   "source": [
    "for seq_index in range(20):\n",
    "    # Take one sequence (part of the training set)\n",
    "    # for trying out decoding.\n",
    "    input_seq = encoder_input_data[seq_index : seq_index + 1]\n",
    "    decoded_sentence = decode_sequence(input_seq)\n",
    "    print(\"-\")\n",
    "    print(\"Input sentence:\", input_texts[seq_index])\n",
    "    print(\"Decoded sentence:\", decoded_sentence)"
   ]
  },
  {
   "cell_type": "markdown",
   "metadata": {
    "id": "kMZQZnDpJ5RA"
   },
   "source": [
    "Write a `translate()` function that takes a string as argument and returns its translation "
   ]
  },
  {
   "cell_type": "code",
   "execution_count": 53,
   "metadata": {
    "id": "DpLCBGwBJ5RB"
   },
   "outputs": [],
   "source": [
    "# Write your code here\n",
    "def translate(input_text):\n",
    "    input_data = np.zeros(\n",
    "        (1, max_encoder_seq_length, num_encoder_tokens), dtype=\"float32\"\n",
    "    )\n",
    "    for t, char in enumerate(input_text):\n",
    "        input_data[0, t, input_token_index[char]] = 1.0\n",
    "    input_data[0, t + 1 :, input_token_index[\" \"]] = 1.0\n",
    "    return decode_sequence(input_data)"
   ]
  },
  {
   "cell_type": "code",
   "execution_count": 54,
   "metadata": {
    "colab": {
     "base_uri": "https://localhost:8080/"
    },
    "id": "_yA08U3mJ5RB",
    "outputId": "f79ed80e-2a37-4dfa-e403-cdf64ce62506"
   },
   "outputs": [
    {
     "name": "stdout",
     "output_type": "stream",
     "text": [
      "Jag är skyldig.\n",
      "\n"
     ]
    }
   ],
   "source": [
    "translation = translate('I am big!')\n",
    "print(translation)"
   ]
  },
  {
   "cell_type": "markdown",
   "metadata": {
    "id": "gz9Of3q_J5RC"
   },
   "source": [
    "## Experiments"
   ]
  },
  {
   "cell_type": "markdown",
   "metadata": {
    "id": "NO6KMWDkJ5RC"
   },
   "source": [
    "Once you have run all the cells, modify the LSTMs in the encoder and the decoder to introduce a dropout and a recurrent dropout. Read the documentation here: https://keras.io/api/layers/recurrent_layers/lstm/\n",
    "\n",
    "You will try at least two sets of parameters per network. In your report, you will present your results in a table like this one:\n",
    "\n",
    "|Method|Dropout|Reccurent Dropout|Accuracy|Loss|Val Accuracy|Val Loss|\n",
    "|------|-----|-----|-----|-----|-----|-----|\n",
    "|LSTM |0.2 |0 |0.8714 | 0.4303 | 0.8142 | 0.6425 |\n",
    "|LSTM |0  |0.2 |0.8903 | 0.3625 | 0.8329 | 0.5750 |\n",
    "|2LSTM|0.2|0.2 | 0.8539| 0.4895| 0.8185 | 0.6164\n"
   ]
  },
  {
   "cell_type": "markdown",
   "metadata": {
    "id": "ZOMc9ygjJ5RC"
   },
   "source": []
  }
 ],
 "metadata": {
  "accelerator": "GPU",
  "colab": {
   "provenance": []
  },
  "kernelspec": {
   "display_name": "Python 3",
   "language": "python",
   "name": "python3"
  },
  "language_info": {
   "codemirror_mode": {
    "name": "ipython",
    "version": 3
   },
   "file_extension": ".py",
   "mimetype": "text/x-python",
   "name": "python",
   "nbconvert_exporter": "python",
   "pygments_lexer": "ipython3",
   "version": "3.7.3"
  },
  "vscode": {
   "interpreter": {
    "hash": "b97b11a820675205aae8f1d7f2a3f22bbd3a2c30189f44042310baf5b4cd1987"
   }
  }
 },
 "nbformat": 4,
 "nbformat_minor": 1
}
